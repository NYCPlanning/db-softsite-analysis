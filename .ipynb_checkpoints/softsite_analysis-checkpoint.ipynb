{
 "cells": [
  {
   "cell_type": "code",
   "execution_count": 1,
   "metadata": {},
   "outputs": [],
   "source": [
    "from pyspark.sql.functions import sum, mean, udf, col, round, greatest, count, when, countDistinct\n",
    "from pyspark.sql.types import DoubleType\n",
    "import pandas as pd\n",
    "import numpy as np\n",
    "import time\n",
    "import matplotlib.pyplot as plt"
   ]
  },
  {
   "cell_type": "markdown",
   "metadata": {},
   "source": [
    "## Download the new far lookup table"
   ]
  },
  {
   "cell_type": "code",
   "execution_count": 2,
   "metadata": {},
   "outputs": [],
   "source": [
    "# ! curl -O https://raw.githubusercontent.com/NYCPlanning/db-pluto/master/pluto_build/data/dcp_zoning_maxfar.csv\n",
    "# ! mv dcp_zoning_maxfar.csv data/dcp_zoning_maxfar.csv"
   ]
  },
  {
   "cell_type": "markdown",
   "metadata": {},
   "source": [
    "## Loading data\n",
    "Note here we are casting the far values to double, so that ```\"-\"``` can get forced into ```Null```"
   ]
  },
  {
   "cell_type": "code",
   "execution_count": 23,
   "metadata": {},
   "outputs": [],
   "source": [
    "df = spark.read.csv('data/pluto.csv', header=True)\n",
    "new_far = spark.read.csv('data/dcp_zoning_maxfar.csv', header=True)\n",
    "df = df.select([col(A).alias(A.lower()) for A in df.columns])\n",
    "\n",
    "#type conversion, '-' --> null\n",
    "for A in ['residfar','commfar']:\n",
    "    new_far = new_far.withColumn(A, col(A).cast(DoubleType()))\n",
    "    df = df.withColumn(A, col(A).cast(DoubleType()))\n",
    "\n",
    "#create two copies\n",
    "new_far1 = new_far.select([col(A).alias(A.lower()+'_1') for A in ['zonedist','residfar','commfar']]).na.fill(0)\n",
    "new_far2 = new_far.select([col(A).alias(A.lower()+'_2') for A in ['zonedist','residfar','commfar']]).na.fill(0)"
   ]
  },
  {
   "cell_type": "code",
   "execution_count": 24,
   "metadata": {},
   "outputs": [],
   "source": [
    "@udf\n",
    "def pick_value(A,B):\n",
    "    if not A: \n",
    "        return B\n",
    "    else: \n",
    "        return A"
   ]
  },
  {
   "cell_type": "markdown",
   "metadata": {},
   "source": [
    "### Procedures:\n",
    "\n",
    "1. for each bbl, do a left join using both zonedist1 and zonedist2 as key\n",
    "2. for each bbl, fill out residfar_new and commfar_new by applying udf pick_value\n",
    "3. create maxfar = max(residfar, commfar), maxfar_new = max(residfar_new, commfar_new)\n",
    "4. create pctunbuilt and pctunbuilt_new\n",
    "5. filter bbls by the following: \n",
    "    1. unitsres <= 6\n",
    "    2. not a landmark\n",
    "    3. not irregular lot\n",
    "    4. not house of worship\n",
    "    5. not public institutions\n",
    "    6. no easement"
   ]
  },
  {
   "cell_type": "code",
   "execution_count": 25,
   "metadata": {},
   "outputs": [],
   "source": [
    "df = df.join(new_far1, df['zonedist1'] == new_far1['zonedist_1'], how='left')\\\n",
    "       .join(new_far2, df['zonedist2'] == new_far2['zonedist_2'], how='left')\\\n",
    "       .withColumn('builtfar', col('builtfar').cast(DoubleType()))\\\n",
    "       .withColumn('residfar_new', pick_value(col('residfar_1'), col('residfar_2')))\\\n",
    "       .withColumn('commfar_new', pick_value(col('commfar_1'), col('commfar_2')))\\\n",
    "       .withColumn('maxfar', greatest(col('residfar').cast(DoubleType()), \n",
    "                                      col('commfar').cast(DoubleType())))\\\n",
    "       .withColumn('pctunbuilt', (col('maxfar') - col('builtfar')) / col('maxfar'))\\\n",
    "       .withColumn('maxfar_new', greatest(col('residfar_new').cast(DoubleType()), \n",
    "                                          col('commfar_new').cast(DoubleType())))\\\n",
    "       .withColumn('pctunbuilt_new', (col('maxfar_new') - col('builtfar')) / col('maxfar_new'))\\\n",
    "       .filter(col('unitsres').cast(DoubleType()) <= 6)\\\n",
    "       .filter(col('landmark').isNull())\\\n",
    "       .filter(col('irrlotcode') != 'Y')\\\n",
    "       .filter(~col ('bldgclass').like('M%'))\\\n",
    "       .filter(col('landuse') != '08')\\\n",
    "       .filter(col('easements').cast(DoubleType()) <= 0)\\"
   ]
  },
  {
   "cell_type": "code",
   "execution_count": 26,
   "metadata": {},
   "outputs": [
    {
     "name": "stdout",
     "output_type": "stream",
     "text": [
      "+---------+----------------+\n",
      "|zonedist1|count(zonedist1)|\n",
      "+---------+----------------+\n",
      "|  M1-6/R9|              18|\n",
      "|     PARK|               1|\n",
      "+---------+----------------+\n",
      "\n"
     ]
    }
   ],
   "source": [
    "df.filter((col('residfar') == 0)&\n",
    "            (col('commfar') == 0) & \n",
    "            (col('residfar_new') != 0)&\n",
    "            (col('commfar_new') != 0))\\\n",
    "  .select('zonedist1').groupBy('zonedist1').agg(count('zonedist1')).show()"
   ]
  },
  {
   "cell_type": "markdown",
   "metadata": {},
   "source": [
    "## Average Far for = residential"
   ]
  },
  {
   "cell_type": "code",
   "execution_count": 27,
   "metadata": {},
   "outputs": [
    {
     "name": "stdout",
     "output_type": "stream",
     "text": [
      "+------------------+------------------+------------------+\n",
      "|   avg(maxfar_new)|       avg(maxfar)|     avg(builtfar)|\n",
      "+------------------+------------------+------------------+\n",
      "|1.1086672562662478|1.1666834392287233|0.8391015326831988|\n",
      "+------------------+------------------+------------------+\n",
      "\n"
     ]
    }
   ],
   "source": [
    "df.filter(col('zonedist1').like('R%'))\\\n",
    "   .select('maxfar_new', 'maxfar', 'builtfar')\\\n",
    "   .agg(mean('maxfar_new'),mean('maxfar'),mean('builtfar')).show()"
   ]
  },
  {
   "cell_type": "markdown",
   "metadata": {},
   "source": [
    "## Softsites changes by borough counts"
   ]
  },
  {
   "cell_type": "code",
   "execution_count": 28,
   "metadata": {},
   "outputs": [
    {
     "name": "stdout",
     "output_type": "stream",
     "text": [
      "+-------+-------------+---------+-----+\n",
      "|borough|softsites_new|softsites| diff|\n",
      "+-------+-------------+---------+-----+\n",
      "|     MN|         6140|     6106|   34|\n",
      "|     BX|        20242|    21727|-1485|\n",
      "|     BK|        48361|    50568|-2207|\n",
      "|     SI|        18810|    23264|-4454|\n",
      "|     QN|        33537|    41283|-7746|\n",
      "+-------+-------------+---------+-----+\n",
      "\n"
     ]
    }
   ],
   "source": [
    "# By Borough Comparison\n",
    "df.groupBy('borough')\\\n",
    "    .agg(sum(when(col('pctunbuilt_new') >= 0.5, 1)).alias('softsites_new'),\n",
    "         sum(when(col('pctunbuilt') >= 0.5, 1)).alias('softsites'))\\\n",
    "    .withColumn('diff', col('softsites_new')-col('softsites'))\\\n",
    "    .sort(col('diff').desc()).show()"
   ]
  },
  {
   "cell_type": "markdown",
   "metadata": {},
   "source": [
    "## Softsites changes by CD counts (top increase)"
   ]
  },
  {
   "cell_type": "code",
   "execution_count": 29,
   "metadata": {},
   "outputs": [
    {
     "name": "stdout",
     "output_type": "stream",
     "text": [
      "+---+-------------+---------+----+\n",
      "| cd|softsites_new|softsites|diff|\n",
      "+---+-------------+---------+----+\n",
      "|111|          942|      923|  19|\n",
      "|302|         1018|     1008|  10|\n",
      "|301|         2927|     2917|  10|\n",
      "|108|          976|      972|   4|\n",
      "|206|         1670|     1666|   4|\n",
      "|308|         1777|     1773|   4|\n",
      "|303|         2916|     2913|   3|\n",
      "|102|          262|      259|   3|\n",
      "|309|         2402|     2399|   3|\n",
      "|104|          620|      617|   3|\n",
      "|106|          538|      536|   2|\n",
      "|304|         2599|     2597|   2|\n",
      "|595|           18|       16|   2|\n",
      "|201|         1568|     1566|   2|\n",
      "|316|         3911|     3909|   2|\n",
      "|202|         1459|     1457|   2|\n",
      "|205|         1252|     1250|   2|\n",
      "|204|         1300|     1298|   2|\n",
      "|110|          810|      808|   2|\n",
      "|484|            9|        7|   2|\n",
      "+---+-------------+---------+----+\n",
      "only showing top 20 rows\n",
      "\n"
     ]
    }
   ],
   "source": [
    "df.groupBy('cd')\\\n",
    "    .agg(sum(when(col('pctunbuilt_new') >= 0.5, 1)).alias('softsites_new'),\n",
    "         sum(when(col('pctunbuilt') >= 0.5, 1)).alias('softsites'))\\\n",
    "    .withColumn('diff', col('softsites_new')-col('softsites'))\\\n",
    "    .sort(col('diff').desc()).show()"
   ]
  },
  {
   "cell_type": "code",
   "execution_count": 30,
   "metadata": {},
   "outputs": [],
   "source": [
    "df.filter(col('cd') == '111')\\\n",
    "  .select('bbl', 'pctunbuilt_new','pctunbuilt','xcoord', 'ycoord')\\\n",
    "  .toPandas().to_csv('cd111_softsites.csv', index = False)"
   ]
  },
  {
   "cell_type": "markdown",
   "metadata": {},
   "source": [
    "## Softsites changes by borough counts (top decrease)"
   ]
  },
  {
   "cell_type": "code",
   "execution_count": 31,
   "metadata": {},
   "outputs": [
    {
     "name": "stdout",
     "output_type": "stream",
     "text": [
      "+---+-------------+---------+-----+\n",
      "| cd|softsites_new|softsites| diff|\n",
      "+---+-------------+---------+-----+\n",
      "|412|         4827|     6697|-1870|\n",
      "|503|         6591|     8251|-1660|\n",
      "|501|         6623|     8234|-1611|\n",
      "|502|         5577|     6762|-1185|\n",
      "|413|         4771|     5918|-1147|\n",
      "|410|         1881|     2919|-1038|\n",
      "|318|         2686|     3721|-1035|\n",
      "|407|         3080|     3906| -826|\n",
      "|405|         2518|     3169| -651|\n",
      "|212|         3408|     4003| -595|\n",
      "|315|         2686|     3205| -519|\n",
      "|409|         1861|     2309| -448|\n",
      "|408|         1501|     1925| -424|\n",
      "|414|         2463|     2876| -413|\n",
      "|210|         2016|     2428| -412|\n",
      "|211|         1779|     2180| -401|\n",
      "|411|         2136|     2524| -388|\n",
      "|317|         4578|     4842| -264|\n",
      "|311|         2026|     2166| -140|\n",
      "|403|         1208|     1342| -134|\n",
      "+---+-------------+---------+-----+\n",
      "only showing top 20 rows\n",
      "\n"
     ]
    }
   ],
   "source": [
    "df.groupBy('cd')\\\n",
    "    .agg(sum(when(col('pctunbuilt_new') >= 0.5, 1)).alias('softsites_new'),\n",
    "         sum(when(col('pctunbuilt') >= 0.5, 1)).alias('softsites'))\\\n",
    "    .withColumn('diff', col('softsites_new')-col('softsites'))\\\n",
    "    .filter((~col('diff').isNull())).sort(col('diff')).show()"
   ]
  },
  {
   "cell_type": "code",
   "execution_count": 32,
   "metadata": {},
   "outputs": [],
   "source": [
    "df.filter(col('cd') == '412')\\\n",
    "  .select('bbl', 'pctunbuilt_new','pctunbuilt','xcoord', 'ycoord')\\\n",
    "  .toPandas().to_csv('cd412_softsites.csv', index = False)"
   ]
  },
  {
   "cell_type": "code",
   "execution_count": 33,
   "metadata": {},
   "outputs": [],
   "source": [
    "df.groupBy('cd')\\\n",
    "    .agg(sum(when(col('pctunbuilt_new') >= 0.5, 1)).alias('softsites_new'),\n",
    "         sum(when(col('pctunbuilt') >= 0.5, 1)).alias('softsites'))\\\n",
    "    .withColumn('diff', col('softsites_new')-col('softsites')).toPandas().to_csv('softsites_cd.csv')"
   ]
  },
  {
   "cell_type": "markdown",
   "metadata": {},
   "source": [
    "## Changes in percent unbuilt"
   ]
  },
  {
   "cell_type": "code",
   "execution_count": 34,
   "metadata": {},
   "outputs": [
    {
     "name": "stdout",
     "output_type": "stream",
     "text": [
      "+-------------------+--------------------+-------------------+\n",
      "|pctunbuilt_increase|pctunbuilt_unchanged|pctunbuilt_decrease|\n",
      "+-------------------+--------------------+-------------------+\n",
      "|               1208|              366040|             303847|\n",
      "+-------------------+--------------------+-------------------+\n",
      "\n"
     ]
    }
   ],
   "source": [
    "df.agg(sum(when(col('pctunbuilt_new') > col('pctunbuilt'), 1)).alias('pctunbuilt_increase'), \n",
    "      sum(when(col('pctunbuilt_new') == col('pctunbuilt'), 1)).alias('pctunbuilt_unchanged'),\n",
    "      sum(when(col('pctunbuilt_new') < col('pctunbuilt'), 1)).alias('pctunbuilt_decrease'),).show()"
   ]
  },
  {
   "cell_type": "markdown",
   "metadata": {},
   "source": [
    "## Changes in maxfar"
   ]
  },
  {
   "cell_type": "code",
   "execution_count": 35,
   "metadata": {},
   "outputs": [
    {
     "name": "stdout",
     "output_type": "stream",
     "text": [
      "+--------+---------+--------+\n",
      "|increase|unchanged|decrease|\n",
      "+--------+---------+--------+\n",
      "|    1496|   356678|  314489|\n",
      "+--------+---------+--------+\n",
      "\n"
     ]
    }
   ],
   "source": [
    "df.groupBy().agg(sum(when(col('maxfar_new') > col('maxfar'), 1)).alias('increase'), \n",
    "      sum(when(col('maxfar_new') == col('maxfar'), 1)).alias('unchanged'),\n",
    "      sum(when(col('maxfar_new') < col('maxfar'), 1)).alias('decrease'),).show()"
   ]
  },
  {
   "cell_type": "markdown",
   "metadata": {},
   "source": [
    "## Percent unbuilt breakdown"
   ]
  },
  {
   "cell_type": "code",
   "execution_count": 36,
   "metadata": {},
   "outputs": [
    {
     "name": "stdout",
     "output_type": "stream",
     "text": [
      "+-------+-------+-------+-------+-------+-------+\n",
      "|old>0.5|old=0.5|old<0.5|new>0.5|new=0.5|new<0.5|\n",
      "+-------+-------+-------+-------+-------+-------+\n",
      "| 136442|   6506| 528148| 121755|   5335| 544075|\n",
      "+-------+-------+-------+-------+-------+-------+\n",
      "\n"
     ]
    }
   ],
   "source": [
    "df.agg(sum(when(col('pctunbuilt') > 0.5, 1)).alias('old>0.5'),\n",
    "       sum(when(col('pctunbuilt') == 0.5, 1)).alias('old=0.5'),\n",
    "       sum(when(col('pctunbuilt') < 0.5, 1)).alias('old<0.5'),\n",
    "       sum(when(col('pctunbuilt_new') > 0.5, 1)).alias('new>0.5'),\n",
    "       sum(when(col('pctunbuilt_new') == 0.5, 1)).alias('new=0.5'),\n",
    "       sum(when(col('pctunbuilt_new') < 0.5, 1)).alias('new<0.5')).show()"
   ]
  },
  {
   "cell_type": "code",
   "execution_count": 37,
   "metadata": {
    "scrolled": true
   },
   "outputs": [
    {
     "name": "stdout",
     "output_type": "stream",
     "text": [
      "+---------+------+----------+--------+\n",
      "|zonedist1|maxfar|maxfar_new|builtfar|\n",
      "+---------+------+----------+--------+\n",
      "|     R3-1|   0.6|       0.5|    0.55|\n",
      "|      R3X|   0.6|       0.5|    0.58|\n",
      "|      R2X|  1.02|      0.85|    0.95|\n",
      "|      R3X|   0.6|       0.5|    0.53|\n",
      "|    M1-1D|  1.65|       1.0|    1.27|\n",
      "|     R3-1|   0.6|       0.5|    0.54|\n",
      "|     R3-2|   0.6|       0.5|    0.59|\n",
      "|       C3|   0.6|       0.5|    0.58|\n",
      "|      R4A|   0.9|      0.75|    0.86|\n",
      "|      R4A|   0.9|      0.75|    0.85|\n",
      "|       R4|   0.9|      0.75|    0.83|\n",
      "|    M1-1D|  1.65|       1.0|    1.51|\n",
      "|    M1-1D|  1.65|       1.0|    1.04|\n",
      "|       R4|   0.9|      0.75|    0.84|\n",
      "|    M1-1D|  1.65|       1.0|    1.16|\n",
      "|    M1-1D|  1.65|       1.0|    1.22|\n",
      "|    M1-1D|  1.65|       1.0|    1.49|\n",
      "|     R3-2|   0.6|       0.5|    0.56|\n",
      "|     R4-1|   0.9|      0.75|    0.84|\n",
      "|      R3A|   0.6|       0.5|    0.54|\n",
      "+---------+------+----------+--------+\n",
      "only showing top 20 rows\n",
      "\n"
     ]
    }
   ],
   "source": [
    "df.select('zonedist1','maxfar', 'maxfar_new', 'builtfar')\\\n",
    ".filter((col('maxfar_new').cast(DoubleType()) < col('builtfar').cast(DoubleType())) &\n",
    "        (col('maxfar') > col('builtfar'))).distinct().show()"
   ]
  },
  {
   "cell_type": "code",
   "execution_count": 38,
   "metadata": {},
   "outputs": [
    {
     "name": "stdout",
     "output_type": "stream",
     "text": [
      "+---------+------+----------+--------------------+-------------------+--------+\n",
      "|zonedist1|maxfar|maxfar_new|          pctunbuilt|     pctunbuilt_new|builtfar|\n",
      "+---------+------+----------+--------------------+-------------------+--------+\n",
      "|     M1-1|   1.0|      3.44|-0.33000000000000007| 0.6133720930232558|    1.33|\n",
      "|      R6B|   2.0|       3.0|-0.02000000000000...|               0.32|    2.04|\n",
      "|     R3-2|   0.6|       1.0|-0.01666666666666...|               0.39|    0.61|\n",
      "|     C8-1|   1.0|      2.43| -0.3999999999999999| 0.4238683127572017|     1.4|\n",
      "|     M1-1|   1.0|      2.43|               -0.78|0.26748971193415644|    1.78|\n",
      "|     M1-1|   1.0|       2.0| -0.3400000000000001|0.32999999999999996|    1.34|\n",
      "|     R3-2|   0.6|       2.0|-0.21666666666666667|              0.635|    0.73|\n",
      "|       R5|  1.25|       3.4|-0.15199999999999997| 0.5764705882352941|    1.44|\n",
      "|       R2|   0.5|       1.0| -0.3400000000000001|0.32999999999999996|    0.67|\n",
      "|     R3-2|   0.6|       1.0|-0.05000000000000...|               0.37|    0.63|\n",
      "|       R5|  1.25|       3.0|              -0.376| 0.4266666666666667|    1.72|\n",
      "|      R6B|   2.0|       3.4|-0.03000000000000...| 0.3941176470588235|    2.06|\n",
      "|     R3-1|   0.6|       1.0|                -0.2|               0.28|    0.72|\n",
      "|     M1-1|   1.0|       4.0|               -1.48|               0.38|    2.48|\n",
      "| M1-1/R6A|   1.0|       3.0|               -0.26|               0.58|    1.26|\n",
      "|      R6B|   2.0|       6.0|              -0.125|              0.625|    2.25|\n",
      "|     C8-1|   1.0|      1.25| -0.1499999999999999|0.08000000000000007|    1.15|\n",
      "|     C8-1|   1.0|      1.25|-0.18999999999999995|0.04800000000000004|    1.19|\n",
      "|     C8-1|   1.0|      2.43|-0.07000000000000006| 0.5596707818930041|    1.07|\n",
      "|     M1-1|   1.0|       2.0|               -0.73|              0.135|    1.73|\n",
      "+---------+------+----------+--------------------+-------------------+--------+\n",
      "only showing top 20 rows\n",
      "\n"
     ]
    }
   ],
   "source": [
    "df.filter((col('pctunbuilt') < 0) &\n",
    "          (col('pctunbuilt_new') > 0))\\\n",
    ".select('zonedist1','maxfar', 'maxfar_new', 'pctunbuilt', 'pctunbuilt_new', 'builtfar').distinct().show()"
   ]
  },
  {
   "cell_type": "code",
   "execution_count": 39,
   "metadata": {},
   "outputs": [
    {
     "name": "stdout",
     "output_type": "stream",
     "text": [
      "+---------+------+----------+--------------------+--------------------+--------+\n",
      "|zonedist1|maxfar|maxfar_new|          pctunbuilt|      pctunbuilt_new|builtfar|\n",
      "+---------+------+----------+--------------------+--------------------+--------+\n",
      "|      R4A|   0.9|      0.75| 0.14444444444444446|-0.02666666666666669|    0.77|\n",
      "|      R2X|  1.02|      0.85| 0.12745098039215685|-0.04705882352941...|    0.89|\n",
      "|     R4-1|   0.9|      0.75| 0.08888888888888896|-0.09333333333333327|    0.82|\n",
      "|    M1-1D|  1.65|       1.0|  0.3454545454545454|-0.08000000000000007|    1.08|\n",
      "|      R3X|   0.6|       0.5| 0.08333333333333323|-0.10000000000000009|    0.55|\n",
      "|    M1-1D|  1.65|       1.0|  0.2363636363636363|               -0.26|    1.26|\n",
      "|     R3-2|   0.6|       0.5|0.050000000000000044| -0.1399999999999999|    0.57|\n",
      "|      C3A|   0.6|       0.5| 0.11666666666666659|-0.06000000000000005|    0.53|\n",
      "|       C3|   0.6|       0.5| 0.09999999999999991|-0.08000000000000007|    0.54|\n",
      "|    M1-1D|  1.65|       1.0| 0.37575757575757573|-0.03000000000000...|    1.03|\n",
      "|      R3A|   0.6|       0.5| 0.13333333333333328|-0.04000000000000...|    0.52|\n",
      "|      R4A|   0.9|      0.75| 0.01111111111111112|-0.18666666666666668|    0.89|\n",
      "|    M1-1D|  1.65|       1.0| 0.19999999999999993|-0.32000000000000006|    1.32|\n",
      "|       R4|   0.9|      0.75| 0.01111111111111112|-0.18666666666666668|    0.89|\n",
      "|      R3A|   0.6|       0.5|0.016666666666666684|-0.17999999999999994|    0.59|\n",
      "|      C3A|   0.6|       0.5| 0.06666666666666654| -0.1200000000000001|    0.56|\n",
      "|     R3-2|   0.6|       0.5| 0.14999999999999997|-0.02000000000000...|    0.51|\n",
      "|      R3X|   0.6|       0.5|0.016666666666666684|-0.17999999999999994|    0.59|\n",
      "|       R4|   0.9|      0.75| 0.07777777777777785|-0.10666666666666662|    0.83|\n",
      "|      R3A|   0.6|       0.5| 0.09999999999999991|-0.08000000000000007|    0.54|\n",
      "+---------+------+----------+--------------------+--------------------+--------+\n",
      "only showing top 20 rows\n",
      "\n"
     ]
    }
   ],
   "source": [
    "df.filter((col('pctunbuilt') > 0) &\n",
    "          (col('pctunbuilt_new') < 0))\\\n",
    ".select('zonedist1','maxfar', 'maxfar_new', 'pctunbuilt', 'pctunbuilt_new', 'builtfar').distinct().show()"
   ]
  },
  {
   "cell_type": "code",
   "execution_count": 41,
   "metadata": {},
   "outputs": [
    {
     "name": "stdout",
     "output_type": "stream",
     "text": [
      "+---------+----------------+\n",
      "|zonedist1|count(zonedist1)|\n",
      "+---------+----------------+\n",
      "|      R8A|               3|\n",
      "|      R7D|               1|\n",
      "|     M1-2|               3|\n",
      "|      R6A|               3|\n",
      "|      R7B|               3|\n",
      "|    C4-4A|               1|\n",
      "|      R7A|               2|\n",
      "+---------+----------------+\n",
      "\n"
     ]
    }
   ],
   "source": [
    "df.filter((col('pctunbuilt_new') >= 0.5) &\n",
    "          (col('pctunbuilt') <= 0.5) & \n",
    "           (col('cd') == '111')).groupBy('zonedist1').agg(count('zonedist1')).show()"
   ]
  },
  {
   "cell_type": "code",
   "execution_count": 42,
   "metadata": {},
   "outputs": [
    {
     "name": "stdout",
     "output_type": "stream",
     "text": [
      "+---------+----------------+\n",
      "|zonedist1|count(zonedist1)|\n",
      "+---------+----------------+\n",
      "|       R2|              78|\n",
      "|     M1-2|               3|\n",
      "|      R5D|              16|\n",
      "|      R6A|               3|\n",
      "|       R5|               3|\n",
      "|     R4-1|               1|\n",
      "|     M1-1|               1|\n",
      "|    C4-4A|               2|\n",
      "|      R7A|               1|\n",
      "|      R4B|              17|\n",
      "|     M1-4|              13|\n",
      "+---------+----------------+\n",
      "\n"
     ]
    }
   ],
   "source": [
    "df.filter((col('pctunbuilt_new') >= 0.5) &\n",
    "          (col('pctunbuilt') <= 0.5) & \n",
    "           (col('cd') == '412')).groupBy('zonedist1').agg(count('zonedist1')).show()"
   ]
  },
  {
   "cell_type": "code",
   "execution_count": 43,
   "metadata": {},
   "outputs": [
    {
     "name": "stdout",
     "output_type": "stream",
     "text": [
      "+---------+----------------+\n",
      "|zonedist1|count(zonedist1)|\n",
      "+---------+----------------+\n",
      "|      R3A|             948|\n",
      "|     R3-1|              65|\n",
      "|      R4A|              45|\n",
      "|       R4|             125|\n",
      "|      R3X|             241|\n",
      "|     R4-1|             420|\n",
      "|     R3-2|              32|\n",
      "+---------+----------------+\n",
      "\n"
     ]
    }
   ],
   "source": [
    "df.filter((col('pctunbuilt_new') < 0.5) &\n",
    "          (col('pctunbuilt') >= 0.5) & \n",
    "           (col('cd') == '412')).groupBy('zonedist1').agg(count('zonedist1')).show()"
   ]
  },
  {
   "cell_type": "code",
   "execution_count": 46,
   "metadata": {},
   "outputs": [
    {
     "name": "stdout",
     "output_type": "stream",
     "text": [
      "+-----------------+------------------+-----------------+----------------+-----------------+----------------+\n",
      "|residfar decrease|residfar unchanged|residfar increase|commfar decrease|commfar unchanged|commfar increase|\n",
      "+-----------------+------------------+-----------------+----------------+-----------------+----------------+\n",
      "|               20|               134|               12|               2|              158|               6|\n",
      "+-----------------+------------------+-----------------+----------------+-----------------+----------------+\n",
      "\n"
     ]
    }
   ],
   "source": [
    "df.select('zonedist1', 'residfar', 'commfar').distinct()\\\n",
    "  .join(new_far1.select('zonedist_1', 'residfar_1', 'commfar_1'), \n",
    "        df['zonedist1'] == new_far1['zonedist_1'], how = 'right').na.fill(0)\\\n",
    "  .withColumn('resid_diff', col('residfar') - col('residfar_1'))\\\n",
    "  .withColumn('comm_diff', col('commfar')- col('commfar_1'))\\\n",
    "  .agg(sum(when(col('resid_diff')>0, 1)).alias('residfar decrease'), \n",
    "      sum(when(col('resid_diff') == 0, 1)).alias('residfar unchanged'),\n",
    "      sum(when(col('resid_diff')< 0, 1)).alias('residfar increase'),\n",
    "      sum(when(col('comm_diff')>0, 1)).alias('commfar decrease'), \n",
    "      sum(when(col('comm_diff') == 0, 1)).alias('commfar unchanged'),\n",
    "      sum(when(col('comm_diff')< 0, 1)).alias('commfar increase')).show()"
   ]
  },
  {
   "cell_type": "code",
   "execution_count": null,
   "metadata": {},
   "outputs": [],
   "source": []
  }
 ],
 "metadata": {
  "kernelspec": {
   "display_name": "Python 3",
   "language": "python",
   "name": "python3"
  },
  "language_info": {
   "codemirror_mode": {
    "name": "ipython",
    "version": 3
   },
   "file_extension": ".py",
   "mimetype": "text/x-python",
   "name": "python",
   "nbconvert_exporter": "python",
   "pygments_lexer": "ipython3",
   "version": "3.7.1"
  }
 },
 "nbformat": 4,
 "nbformat_minor": 2
}
