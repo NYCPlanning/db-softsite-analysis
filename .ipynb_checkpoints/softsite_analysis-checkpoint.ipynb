{
 "cells": [
  {
   "cell_type": "code",
   "execution_count": 59,
   "metadata": {},
   "outputs": [],
   "source": [
    "from pyspark.sql.functions import mean, udf, col, round, max, greatest, count\n",
    "from pyspark.sql.types import DoubleType\n",
    "from pyspark.sql.functions import rank, col\n",
    "import pandas as pd\n",
    "import numpy as np\n",
    "import time\n",
    "import matplotlib.pyplot as plt\n",
    "%matplotlib inline"
   ]
  },
  {
   "cell_type": "code",
   "execution_count": 60,
   "metadata": {},
   "outputs": [],
   "source": [
    "# ! curl -O https://raw.githubusercontent.com/NYCPlanning/db-pluto/master/pluto_build/data/dcp_zoning_maxfar.csv\n",
    "# ! mv dcp_zoning_maxfar.csv data/dcp_zoning_maxfar.csv"
   ]
  },
  {
   "cell_type": "code",
   "execution_count": 61,
   "metadata": {},
   "outputs": [],
   "source": [
    "df = spark.read.csv('data/pluto.csv', header=True)\n",
    "new_far = spark.read.csv('data/dcp_zoning_maxfar.csv', header=True)\n",
    "new_far = new_far.select([col(A).alias(A.lower()+'_new') for A in new_far.columns])\n",
    "df = df.join(new_far, df['zonedist1'] == new_far['zonedist_new'])"
   ]
  },
  {
   "cell_type": "code",
   "execution_count": 62,
   "metadata": {},
   "outputs": [],
   "source": [
    "df = df.select([col(A).alias(A.lower()) for A in df.columns])\\\n",
    "       .withColumn('maxfar', greatest(col('residfar'), col('commfar')))\\\n",
    "       .withColumn('pctunbuilt', ((col('maxfar') - col('builtfar'))/col('maxfar')))\\\n",
    "       .withColumn('maxfar_new', greatest(col('residfar_new'), col('commfar_new')))\\\n",
    "       .withColumn('pctunbuilt_new', ((col('maxfar_new') - col('builtfar'))/col('maxfar_new')))\\\n",
    "       .filter(col('unitsres').cast(DoubleType()) <= 6)\\\n",
    "       .filter(col('landmark').isNull())\\\n",
    "       .filter(col('irrlotcode') != 'Y')\\\n",
    "       .filter(~col ('bldgclass').like('M%'))\\\n",
    "       .filter(col('landuse') != '08')\\\n",
    "       .filter(col('easements').cast(DoubleType()) <= 0)\\"
   ]
  },
  {
   "cell_type": "code",
   "execution_count": 63,
   "metadata": {},
   "outputs": [
    {
     "name": "stdout",
     "output_type": "stream",
     "text": [
      "+-------+---------+\n",
      "|borough|softsites|\n",
      "+-------+---------+\n",
      "|     MN|     3770|\n",
      "|     BX|      959|\n",
      "|     QN|     2803|\n",
      "|     BK|     3474|\n",
      "|     SI|      639|\n",
      "+-------+---------+\n",
      "\n"
     ]
    }
   ],
   "source": [
    "# Using new Far values: \n",
    "df.groupBy('borough')\\\n",
    "  .agg(count(col('pctunbuilt_new') >= 0.5).alias('softsites'))\\\n",
    "  .show()"
   ]
  },
  {
   "cell_type": "code",
   "execution_count": 64,
   "metadata": {},
   "outputs": [
    {
     "name": "stdout",
     "output_type": "stream",
     "text": [
      "+-------+---------+\n",
      "|borough|softsites|\n",
      "+-------+---------+\n",
      "|     MN|    14245|\n",
      "|     BX|    64049|\n",
      "|     QN|   268392|\n",
      "|     BK|   229183|\n",
      "|     SI|    95226|\n",
      "+-------+---------+\n",
      "\n"
     ]
    }
   ],
   "source": [
    "# Using old Far values: \n",
    "df.groupBy('borough')\\\n",
    "  .agg(count(col('pctunbuilt') >= 0.5).alias('softsites'))\\\n",
    "  .show()"
   ]
  },
  {
   "cell_type": "code",
   "execution_count": null,
   "metadata": {},
   "outputs": [],
   "source": []
  }
 ],
 "metadata": {
  "kernelspec": {
   "display_name": "Python 3",
   "language": "python",
   "name": "python3"
  },
  "language_info": {
   "codemirror_mode": {
    "name": "ipython",
    "version": 3
   },
   "file_extension": ".py",
   "mimetype": "text/x-python",
   "name": "python",
   "nbconvert_exporter": "python",
   "pygments_lexer": "ipython3",
   "version": "3.7.1"
  }
 },
 "nbformat": 4,
 "nbformat_minor": 2
}
