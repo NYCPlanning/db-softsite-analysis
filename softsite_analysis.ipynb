{
 "cells": [
  {
   "cell_type": "code",
   "execution_count": 1,
   "metadata": {},
   "outputs": [],
   "source": [
    "from pyspark.sql.functions import sum, mean, udf, col, round, max, greatest, count\n",
    "from pyspark.sql.types import DoubleType\n",
    "from pyspark.sql.functions import rank, col\n",
    "import pandas as pd\n",
    "import numpy as np\n",
    "import time\n",
    "import matplotlib.pyplot as plt\n",
    "%matplotlib inline"
   ]
  },
  {
   "cell_type": "code",
   "execution_count": 2,
   "metadata": {},
   "outputs": [],
   "source": [
    "# ! curl -O https://raw.githubusercontent.com/NYCPlanning/db-pluto/master/pluto_build/data/dcp_zoning_maxfar.csv\n",
    "# ! mv dcp_zoning_maxfar.csv data/dcp_zoning_maxfar.csv"
   ]
  },
  {
   "cell_type": "code",
   "execution_count": 3,
   "metadata": {},
   "outputs": [],
   "source": [
    "df = spark.read.csv('data/pluto.csv', header=True)\n",
    "new_far = spark.read.csv('data/dcp_zoning_maxfar.csv', header=True)\n",
    "df = df.select([col(A).alias(A.lower()) for A in df.columns])\n",
    "\n",
    "#type conversion, '-' --> null\n",
    "for A in ['residfar','commfar']:\n",
    "    new_far = new_far.withColumn(A, col(A).cast(DoubleType()))\n",
    "    df = df.withColumn(A, col(A).cast(DoubleType()))\n",
    "\n",
    "#create two copies\n",
    "new_far1 = new_far.select([col(A).alias(A.lower()+'_1') for A in ['zonedist','residfar','commfar']])\n",
    "new_far2 = new_far.select([col(A).alias(A.lower()+'_2') for A in ['zonedist','residfar','commfar']])"
   ]
  },
  {
   "cell_type": "code",
   "execution_count": 4,
   "metadata": {},
   "outputs": [],
   "source": [
    "@udf\n",
    "def pick_value(A,B):\n",
    "    if not A: \n",
    "        return B\n",
    "    else: \n",
    "        return A"
   ]
  },
  {
   "cell_type": "code",
   "execution_count": 7,
   "metadata": {},
   "outputs": [],
   "source": [
    "df = df.join(new_far1, df['zonedist1'] == new_far1['zonedist_1'], how='left')\\\n",
    "       .join(new_far2, df['zonedist2'] == new_far2['zonedist_2'], how='left')\\\n",
    "       .withColumn('residfar_new', pick_value(col('residfar_1'), col('residfar_2')))\\\n",
    "       .withColumn('commfar_new', pick_value(col('commfar_1'), col('commfar_2')))\\\n",
    "       .withColumn('maxfar', greatest(col('residfar'), col('commfar')))\\\n",
    "       .withColumn('pctunbuilt', ((col('maxfar') - col('builtfar'))/col('maxfar')))\\\n",
    "       .withColumn('maxfar_new', greatest(col('residfar_new'), col('commfar_new')))\\\n",
    "       .withColumn('pctunbuilt_new', ((col('maxfar_new') - col('builtfar'))/col('maxfar_new')))\\\n",
    "       .filter(col('unitsres').cast(DoubleType()) <= 6)\\\n",
    "       .filter(col('landmark').isNull())\\\n",
    "       .filter(col('irrlotcode') != 'Y')\\\n",
    "       .filter(~col ('bldgclass').like('M%'))\\\n",
    "       .filter(col('landuse') != '08')\\\n",
    "       .filter(col('easements').cast(DoubleType()) <= 0)\\"
   ]
  },
  {
   "cell_type": "code",
   "execution_count": 127,
   "metadata": {},
   "outputs": [
    {
     "name": "stdout",
     "output_type": "stream",
     "text": [
      "+--------+\n",
      "|increase|\n",
      "+--------+\n",
      "|    1472|\n",
      "+--------+\n",
      "\n"
     ]
    }
   ],
   "source": [
    "df.select('maxfar', 'maxfar_new')\\\n",
    "  .filter(col('maxfar') < col('maxfar_new')).agg(count('maxfar_new').alias('increase')).show()"
   ]
  },
  {
   "cell_type": "code",
   "execution_count": 153,
   "metadata": {},
   "outputs": [
    {
     "name": "stdout",
     "output_type": "stream",
     "text": [
      "+--------+\n",
      "|increase|\n",
      "+--------+\n",
      "|   43285|\n",
      "+--------+\n",
      "\n"
     ]
    }
   ],
   "source": [
    "df.select('maxfar', 'maxfar_new')\\\n",
    "  .filter((col('maxfar') > col('maxfar_new')) &\n",
    "          (col('pctunbuilt') > 0.5))\\\n",
    "    .agg(count('maxfar_new').alias('increase'))\\\n",
    ".show()"
   ]
  },
  {
   "cell_type": "code",
   "execution_count": 154,
   "metadata": {},
   "outputs": [
    {
     "name": "stdout",
     "output_type": "stream",
     "text": [
      "+--------+\n",
      "|increase|\n",
      "+--------+\n",
      "|    2821|\n",
      "+--------+\n",
      "\n"
     ]
    }
   ],
   "source": [
    "df.select('maxfar', 'maxfar_new')\\\n",
    "  .filter((col('maxfar') > col('maxfar_new')) &\n",
    "          (col('pctunbuilt') == 0.5))\\\n",
    "    .agg(count('maxfar_new').alias('increase'))\\\n",
    ".show()"
   ]
  },
  {
   "cell_type": "code",
   "execution_count": 155,
   "metadata": {},
   "outputs": [
    {
     "name": "stdout",
     "output_type": "stream",
     "text": [
      "+--------+\n",
      "|increase|\n",
      "+--------+\n",
      "|  268385|\n",
      "+--------+\n",
      "\n"
     ]
    }
   ],
   "source": [
    "df.select('maxfar', 'maxfar_new')\\\n",
    "  .filter((col('maxfar') > col('maxfar_new')) &\n",
    "          (col('pctunbuilt') < 0.5))\\\n",
    "    .agg(count('maxfar_new').alias('increase'))\\\n",
    ".show()"
   ]
  },
  {
   "cell_type": "code",
   "execution_count": 15,
   "metadata": {},
   "outputs": [],
   "source": [
    "@udf\n",
    "def Larger(A,B): \n",
    "    try:\n",
    "        if float(A)>float(B): \n",
    "            return 1\n",
    "        else: \n",
    "            return 0\n",
    "    except: \n",
    "        pass\n",
    "\n",
    "@udf\n",
    "def Equal(A,B):\n",
    "    try:\n",
    "        if float(A)==float(B): \n",
    "            return 1\n",
    "        else: \n",
    "            return 0\n",
    "    except: \n",
    "        pass\n",
    "        return 0\n",
    "    \n",
    "@udf\n",
    "def Less(A,B):\n",
    "    try:\n",
    "        if float(A)<float(B): \n",
    "            return 1\n",
    "        else: \n",
    "            return 0\n",
    "    except: \n",
    "        pass"
   ]
  },
  {
   "cell_type": "code",
   "execution_count": 16,
   "metadata": {},
   "outputs": [
    {
     "name": "stdout",
     "output_type": "stream",
     "text": [
      "+--------+---------+--------+\n",
      "|decrease|no change|increase|\n",
      "+--------+---------+--------+\n",
      "|315182.0| 356009.0|  1472.0|\n",
      "+--------+---------+--------+\n",
      "\n"
     ]
    }
   ],
   "source": [
    "df.select('maxfar', 'maxfar_new')\\\n",
    "  .withColumn('Larger', Larger(col('maxfar').cast(DoubleType()),col('maxfar_new')))\\\n",
    "  .withColumn('Equal', Equal(col('maxfar').cast(DoubleType()),col('maxfar_new')))\\\n",
    "  .withColumn('Less', Less(col('maxfar').cast(DoubleType()),col('maxfar_new')))\\\n",
    "  .agg(sum(col('Larger')).alias('decrease'),\n",
    "      sum(col('Equal')).alias('no change'),\n",
    "      sum(col('Less')).alias('increase')).show()"
   ]
  },
  {
   "cell_type": "code",
   "execution_count": 21,
   "metadata": {},
   "outputs": [
    {
     "name": "stdout",
     "output_type": "stream",
     "text": [
      "+--------+---------+--------+\n",
      "|decrease|no change|increase|\n",
      "+--------+---------+--------+\n",
      "| 43285.0|  92399.0|   758.0|\n",
      "+--------+---------+--------+\n",
      "\n"
     ]
    }
   ],
   "source": [
    "df.select('maxfar', 'maxfar_new')\\\n",
    "  .filter(col('pctunbuilt') > 0.5)\\\n",
    "  .withColumn('Larger', Larger(col('maxfar').cast(DoubleType()),col('maxfar_new')))\\\n",
    "  .withColumn('Equal', Equal(col('maxfar').cast(DoubleType()),col('maxfar_new')))\\\n",
    "  .withColumn('Less', Less(col('maxfar').cast(DoubleType()),col('maxfar_new')))\\\n",
    "  .agg(sum(col('Larger')).alias('decrease'),\n",
    "      sum(col('Equal')).alias('no change'),\n",
    "      sum(col('Less')).alias('increase')).show()"
   ]
  },
  {
   "cell_type": "code",
   "execution_count": 22,
   "metadata": {},
   "outputs": [
    {
     "name": "stdout",
     "output_type": "stream",
     "text": [
      "+--------+---------+--------+\n",
      "|decrease|no change|increase|\n",
      "+--------+---------+--------+\n",
      "|  2821.0|   3655.0|    30.0|\n",
      "+--------+---------+--------+\n",
      "\n"
     ]
    }
   ],
   "source": [
    "df.select('maxfar', 'maxfar_new')\\\n",
    "  .filter(col('pctunbuilt') == 0.5)\\\n",
    "  .withColumn('Larger', Larger(col('maxfar').cast(DoubleType()),col('maxfar_new')))\\\n",
    "  .withColumn('Equal', Equal(col('maxfar').cast(DoubleType()),col('maxfar_new')))\\\n",
    "  .withColumn('Less', Less(col('maxfar').cast(DoubleType()),col('maxfar_new')))\\\n",
    "  .agg(sum(col('Larger')).alias('decrease'),\n",
    "      sum(col('Equal')).alias('no change'),\n",
    "      sum(col('Less')).alias('increase')).show()"
   ]
  },
  {
   "cell_type": "code",
   "execution_count": 23,
   "metadata": {},
   "outputs": [
    {
     "name": "stdout",
     "output_type": "stream",
     "text": [
      "+--------+---------+--------+\n",
      "|decrease|no change|increase|\n",
      "+--------+---------+--------+\n",
      "|268385.0| 259160.0|   602.0|\n",
      "+--------+---------+--------+\n",
      "\n"
     ]
    }
   ],
   "source": [
    "df.select('maxfar', 'maxfar_new')\\\n",
    "  .filter(col('pctunbuilt') < 0.5)\\\n",
    "  .withColumn('Larger', Larger(col('maxfar').cast(DoubleType()),col('maxfar_new')))\\\n",
    "  .withColumn('Equal', Equal(col('maxfar').cast(DoubleType()),col('maxfar_new')))\\\n",
    "  .withColumn('Less', Less(col('maxfar').cast(DoubleType()),col('maxfar_new')))\\\n",
    "  .agg(sum(col('Larger')).alias('decrease'),\n",
    "      sum(col('Equal')).alias('no change'),\n",
    "      sum(col('Less')).alias('increase')).show()"
   ]
  },
  {
   "cell_type": "code",
   "execution_count": 115,
   "metadata": {},
   "outputs": [
    {
     "name": "stdout",
     "output_type": "stream",
     "text": [
      "+---------+------+----------+\n",
      "|zonedist1|maxfar|maxfar_new|\n",
      "+---------+------+----------+\n",
      "|R3-2     |0.6   |1.0       |\n",
      "|M1-6/R9  |0.0   |7.52      |\n",
      "|R7-1     |3.44  |4.0       |\n",
      "|R3-2     |0.6   |2.0       |\n",
      "|R5       |1.25  |3.0       |\n",
      "|R8B      |4.0   |6.0       |\n",
      "|C8-3     |2.0   |3.44      |\n",
      "|R3A      |0.6   |1.0       |\n",
      "|C8-2     |2.0   |3.0       |\n",
      "|R7-1     |3.44  |5.0       |\n",
      "|R5D      |2.0   |3.4       |\n",
      "|R2A      |0.5   |2.0       |\n",
      "|PARK     |0.0   |3.0       |\n",
      "|PARK     |0.0   |0.75      |\n",
      "|R5B      |1.35  |4.0       |\n",
      "|M1-2     |2.0   |6.02      |\n",
      "|R3X      |0.6   |2.0       |\n",
      "|R6B      |2.0   |3.4       |\n",
      "|M1-1     |1.0   |1.35      |\n",
      "|R6B      |2.0   |4.2       |\n",
      "|M1-2     |2.0   |2.43      |\n",
      "|R3-1     |0.6   |1.0       |\n",
      "|C8-1     |1.0   |2.0       |\n",
      "|R5       |1.25  |2.0       |\n",
      "|R3A      |0.6   |3.4       |\n",
      "|M1-4     |2.0   |4.0       |\n",
      "|R6       |2.43  |3.4       |\n",
      "|R5B      |1.35  |3.4       |\n",
      "|R2       |0.5   |1.0       |\n",
      "|R3-2     |0.6   |3.0       |\n",
      "|M2-1     |2.0   |2.43      |\n",
      "|R3-2     |0.6   |3.4       |\n",
      "|C8-3     |2.0   |6.02      |\n",
      "|R3X      |0.6   |3.4       |\n",
      "|R6B      |2.0   |3.0       |\n",
      "|R10      |10.0  |15.0      |\n",
      "|M1-4/R7D |2.0   |4.2       |\n",
      "|PARK     |0.0   |0.5       |\n",
      "|R2A      |0.5   |1.0       |\n",
      "|R5       |1.25  |4.0       |\n",
      "|M1-1     |1.0   |3.44      |\n",
      "|C8-1     |1.0   |3.44      |\n",
      "|R2       |0.5   |3.4       |\n",
      "|C8-1     |1.0   |1.35      |\n",
      "|M1-2     |2.0   |3.0       |\n",
      "|M1-4D    |2.0   |3.0       |\n",
      "|R4A      |0.9   |1.0       |\n",
      "|R6A      |3.0   |3.4       |\n",
      "|R6       |2.43  |4.0       |\n",
      "|R6       |2.43  |4.2       |\n",
      "|C8-1     |1.0   |2.43      |\n",
      "|R6A      |3.0   |4.0       |\n",
      "|R5B      |1.35  |2.0       |\n",
      "|R4       |0.9   |2.0       |\n",
      "|R6B      |2.0   |6.0       |\n",
      "|M1-4/R7X |3.75  |5.0       |\n",
      "|C8-2     |2.0   |3.44      |\n",
      "|PARK     |0.0   |2.0       |\n",
      "|R8A      |6.0   |6.02      |\n",
      "|M1-1     |1.0   |4.2       |\n",
      "|M3-1     |2.0   |2.43      |\n",
      "|M1-4     |2.0   |5.0       |\n",
      "|R4B      |0.9   |2.0       |\n",
      "|R5       |1.25  |3.4       |\n",
      "|M1-1/R6A |1.0   |3.0       |\n",
      "|M1-4     |2.0   |3.0       |\n",
      "|C8-2     |2.0   |2.43      |\n",
      "|M1-1     |1.0   |2.43      |\n",
      "|M1-1     |1.0   |3.0       |\n",
      "|R6       |2.43  |5.0       |\n",
      "|R4-1     |0.9   |1.0       |\n",
      "|R4       |0.9   |1.0       |\n",
      "|M1-5     |5.0   |7.52      |\n",
      "|M1-1     |1.0   |5.0       |\n",
      "|M1-1     |1.0   |6.02      |\n",
      "|R6B      |2.0   |4.0       |\n",
      "|PARK     |0.0   |2.43      |\n",
      "|C8-1     |1.0   |1.1       |\n",
      "|R7-2     |3.44  |6.0       |\n",
      "|R6       |2.43  |6.0       |\n",
      "|R7A      |4.0   |6.0       |\n",
      "|R5B      |1.35  |3.0       |\n",
      "|C8-2     |2.0   |6.02      |\n",
      "|R8       |6.02  |9.0       |\n",
      "|PARK     |0.0   |6.02      |\n",
      "|M1-1     |1.0   |2.0       |\n",
      "|R4B      |0.9   |3.0       |\n",
      "|C8-1     |1.0   |1.25      |\n",
      "|R4       |0.9   |3.4       |\n",
      "|M1-4/R8A |5.4   |6.02      |\n",
      "|M1-2     |2.0   |4.0       |\n",
      "|PARK     |0.0   |1.0       |\n",
      "|R4B      |0.9   |1.0       |\n",
      "|M1-1     |1.0   |4.0       |\n",
      "|R4A      |0.9   |3.4       |\n",
      "|C8-1     |1.0   |3.0       |\n",
      "|M1-1     |1.0   |1.25      |\n",
      "|R3X      |0.6   |1.0       |\n",
      "|PARK     |0.0   |3.44      |\n",
      "|C8-4     |5.0   |6.02      |\n",
      "+---------+------+----------+\n",
      "\n"
     ]
    }
   ],
   "source": [
    "df.filter(col('maxfar') < col('maxfar_new'))\\\n",
    "    .select('zonedist1', 'maxfar', 'maxfar_new').distinct().show(df.count(), False)"
   ]
  },
  {
   "cell_type": "code",
   "execution_count": 119,
   "metadata": {},
   "outputs": [
    {
     "name": "stdout",
     "output_type": "stream",
     "text": [
      "+---------+------+\n",
      "|zonedist1|counts|\n",
      "+---------+------+\n",
      "|R8A      |591   |\n",
      "|M1-1     |133   |\n",
      "|R3-2     |79    |\n",
      "|R6B      |71    |\n",
      "|R3A      |66    |\n",
      "|R5       |59    |\n",
      "|PARK     |52    |\n",
      "|R4       |51    |\n",
      "|C8-1     |51    |\n",
      "|R6       |43    |\n",
      "|C8-2     |36    |\n",
      "|R3X      |36    |\n",
      "|M1-4/R8A |20    |\n",
      "|R4A      |20    |\n",
      "|R4B      |19    |\n",
      "|M1-6/R9  |18    |\n",
      "|R5B      |18    |\n",
      "|R2       |13    |\n",
      "|R7-1     |11    |\n",
      "|C8-3     |11    |\n",
      "|R6A      |10    |\n",
      "|M1-2     |10    |\n",
      "|R3-1     |8     |\n",
      "|R4-1     |7     |\n",
      "|M1-4/R7X |7     |\n",
      "|M1-4/R7D |5     |\n",
      "|R2A      |4     |\n",
      "|M1-5     |4     |\n",
      "|M1-4     |3     |\n",
      "|C8-4     |2     |\n",
      "|R7-2     |2     |\n",
      "|R8B      |2     |\n",
      "|M1-1/R6A |2     |\n",
      "|M3-1     |2     |\n",
      "|R8       |1     |\n",
      "|M1-4D    |1     |\n",
      "|R10      |1     |\n",
      "|R7A      |1     |\n",
      "|R5D      |1     |\n",
      "|M2-1     |1     |\n",
      "+---------+------+\n",
      "\n"
     ]
    }
   ],
   "source": [
    "df.filter(col('maxfar') < col('maxfar_new'))\\\n",
    "    .groupBy('zonedist1')\\\n",
    "    .agg(count('zonedist1').alias('counts'))\\\n",
    "    .sort(col('counts').desc()).show(df.count(), False)"
   ]
  },
  {
   "cell_type": "code",
   "execution_count": 110,
   "metadata": {},
   "outputs": [
    {
     "name": "stdout",
     "output_type": "stream",
     "text": [
      "+---------------------+\n",
      "|count(pctunbuilt_new)|\n",
      "+---------------------+\n",
      "|               304494|\n",
      "+---------------------+\n",
      "\n"
     ]
    }
   ],
   "source": [
    "df.select('residfar_new', 'commfar_new', 'pctunbuilt', 'pctunbuilt_new')\\\n",
    "  .filter(col('pctunbuilt') > col('pctunbuilt_new')).agg(count('pctunbuilt_new')).show()"
   ]
  },
  {
   "cell_type": "code",
   "execution_count": 122,
   "metadata": {},
   "outputs": [
    {
     "name": "stdout",
     "output_type": "stream",
     "text": [
      "+------------------+------------------+------------------+\n",
      "|   avg(maxfar_new)|       avg(maxfar)|     avg(builtfar)|\n",
      "+------------------+------------------+------------------+\n",
      "|1.1085407715997209|1.1666834392287233|0.8391015326831988|\n",
      "+------------------+------------------+------------------+\n",
      "\n"
     ]
    }
   ],
   "source": [
    "df.filter(col('zonedist1').like('R%'))\\\n",
    "   .select('maxfar_new', 'maxfar', 'builtfar')\\\n",
    "   .agg(mean('maxfar_new'),mean('maxfar'),mean('builtfar')).show()"
   ]
  },
  {
   "cell_type": "code",
   "execution_count": 97,
   "metadata": {},
   "outputs": [
    {
     "name": "stdout",
     "output_type": "stream",
     "text": [
      "+-------+-------------+---------+----+\n",
      "|borough|softsites_new|softsites|diff|\n",
      "+-------+-------------+---------+----+\n",
      "|     SI|        95252|    95226|  26|\n",
      "|     MN|        14265|    14246|  19|\n",
      "|     QN|       268405|   268392|  13|\n",
      "|     BK|       229191|   229183|   8|\n",
      "|     BX|        64052|    64049|   3|\n",
      "+-------+-------------+---------+----+\n",
      "\n"
     ]
    }
   ],
   "source": [
    "# By Borough Comparison\n",
    "df.groupBy('borough')\\\n",
    "    .agg(count(col('pctunbuilt_new') >= 0.5).alias('softsites_new'),\n",
    "         count(col('pctunbuilt') >= 0.5).alias('softsites'))\\\n",
    "    .withColumn('diff', col('softsites_new')-col('softsites'))\\\n",
    "    .sort(col('diff').desc()).show()"
   ]
  },
  {
   "cell_type": "code",
   "execution_count": 94,
   "metadata": {},
   "outputs": [
    {
     "name": "stdout",
     "output_type": "stream",
     "text": [
      "+---+-------------+---------+----+\n",
      "| cd|softsites_new|softsites|diff|\n",
      "+---+-------------+---------+----+\n",
      "|503|        37489|    37467|  22|\n",
      "|111|         1514|     1496|  18|\n",
      "|302|         5126|     5122|   4|\n",
      "|595|           18|       16|   2|\n",
      "|307|        11232|    11230|   2|\n",
      "|404|         9101|     9099|   2|\n",
      "|305|        17627|    17625|   2|\n",
      "|413|        37981|    37979|   2|\n",
      "|484|           10|        8|   2|\n",
      "|501|        31319|    31317|   2|\n",
      "|411|        20874|    20872|   2|\n",
      "|409|        18288|    18287|   1|\n",
      "|208|         2589|     2588|   1|\n",
      "|414|         9996|     9995|   1|\n",
      "|408|        15945|    15944|   1|\n",
      "|481|            6|        5|   1|\n",
      "|110|         2056|     2055|   1|\n",
      "|407|        28144|    28143|   1|\n",
      "|103|          899|      898|   1|\n",
      "|201|         2350|     2349|   1|\n",
      "+---+-------------+---------+----+\n",
      "only showing top 20 rows\n",
      "\n"
     ]
    }
   ],
   "source": [
    "df.groupBy('cd')\\\n",
    "    .agg(count(col('pctunbuilt_new') >= 0.5).alias('softsites_new'),\n",
    "         count(col('pctunbuilt') >= 0.5).alias('softsites'))\\\n",
    "    .withColumn('diff', col('softsites_new')-col('softsites'))\\\n",
    "    .sort(col('diff').desc()).show()"
   ]
  },
  {
   "cell_type": "code",
   "execution_count": null,
   "metadata": {},
   "outputs": [],
   "source": []
  }
 ],
 "metadata": {
  "kernelspec": {
   "display_name": "Python 3",
   "language": "python",
   "name": "python3"
  }
 },
 "nbformat": 4,
 "nbformat_minor": 2
}
