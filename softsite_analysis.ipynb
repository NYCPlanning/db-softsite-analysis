{
 "cells": [
  {
   "cell_type": "code",
   "execution_count": 49,
   "metadata": {},
   "outputs": [],
   "source": [
    "from pyspark.sql.functions import mean, udf, col, round, max, greatest, count\n",
    "from pyspark.sql.types import DoubleType\n",
    "from pyspark.sql.functions import rank, col\n",
    "import pandas as pd\n",
    "import numpy as np\n",
    "import time\n",
    "import matplotlib.pyplot as plt\n",
    "%matplotlib inline"
   ]
  },
  {
   "cell_type": "code",
   "execution_count": 45,
   "metadata": {},
   "outputs": [],
   "source": [
    "df1 = spark.read.csv('data/pluto.csv', header=True)"
   ]
  },
  {
   "cell_type": "code",
   "execution_count": 46,
   "metadata": {},
   "outputs": [],
   "source": [
    "df1 = df1.select([col(A).alias(A.lower()) for A in df1.columns])\\\n",
    "         .filter(col('unitsres').cast(DoubleType()) <= 6)\\\n",
    "         .filter(col('landmark').isNull())\\\n",
    "         .filter(col('irrlotcode') != 'Y')\\\n",
    "         .filter(~col ('bldgclass').like('M%'))\\\n",
    "         .filter(col('landuse') != '08')\\\n",
    "         .filter(col('easements').cast(DoubleType()) <= 0)\\\n",
    "         .withColumn('maxfar', greatest(col('residfar'), col('commfar')))\\\n",
    "         .withColumn('pctunbuilt', ((col('maxfar') - col('builtfar'))/col('maxfar')))            "
   ]
  },
  {
   "cell_type": "code",
   "execution_count": 54,
   "metadata": {},
   "outputs": [
    {
     "name": "stdout",
     "output_type": "stream",
     "text": [
      "+--------------------------+\n",
      "|count((pctunbuilt >= 0.5))|\n",
      "+--------------------------+\n",
      "|                    671092|\n",
      "+--------------------------+\n",
      "\n"
     ]
    }
   ],
   "source": [
    "df1.agg(count(col('pctunbuilt') >= 0.5)).show()"
   ]
  },
  {
   "cell_type": "code",
   "execution_count": null,
   "metadata": {},
   "outputs": [],
   "source": []
  }
 ],
 "metadata": {
  "kernelspec": {
   "display_name": "Python 3",
   "language": "python",
   "name": "python3"
  },
  "language_info": {
   "codemirror_mode": {
    "name": "ipython",
    "version": 3
   },
   "file_extension": ".py",
   "mimetype": "text/x-python",
   "name": "python",
   "nbconvert_exporter": "python",
   "pygments_lexer": "ipython3",
   "version": "3.7.1"
  }
 },
 "nbformat": 4,
 "nbformat_minor": 2
}
