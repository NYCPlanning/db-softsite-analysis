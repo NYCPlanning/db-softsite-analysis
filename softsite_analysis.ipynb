{
 "cells": [
  {
   "cell_type": "code",
   "execution_count": 21,
   "metadata": {},
   "outputs": [],
   "source": [
    "from pyspark.sql.functions import sum, mean, udf, col, round, max, greatest, count, when\n",
    "from pyspark.sql.types import DoubleType\n",
    "from pyspark.sql.functions import rank, col\n",
    "import pandas as pd\n",
    "import numpy as np\n",
    "import time\n",
    "import matplotlib.pyplot as plt\n",
    "%matplotlib inline"
   ]
  },
  {
   "cell_type": "code",
   "execution_count": 22,
   "metadata": {},
   "outputs": [],
   "source": [
    "# ! curl -O https://raw.githubusercontent.com/NYCPlanning/db-pluto/master/pluto_build/data/dcp_zoning_maxfar.csv\n",
    "# ! mv dcp_zoning_maxfar.csv data/dcp_zoning_maxfar.csv"
   ]
  },
  {
   "cell_type": "code",
   "execution_count": 23,
   "metadata": {},
   "outputs": [],
   "source": [
    "df = spark.read.csv('data/pluto.csv', header=True)\n",
    "new_far = spark.read.csv('data/dcp_zoning_maxfar.csv', header=True)\n",
    "df = df.select([col(A).alias(A.lower()) for A in df.columns])\n",
    "\n",
    "#type conversion, '-' --> null\n",
    "for A in ['residfar','commfar']:\n",
    "    new_far = new_far.withColumn(A, col(A).cast(DoubleType()))\n",
    "    df = df.withColumn(A, col(A).cast(DoubleType()))\n",
    "\n",
    "#create two copies\n",
    "new_far1 = new_far.select([col(A).alias(A.lower()+'_1') for A in ['zonedist','residfar','commfar']])\n",
    "new_far2 = new_far.select([col(A).alias(A.lower()+'_2') for A in ['zonedist','residfar','commfar']])"
   ]
  },
  {
   "cell_type": "code",
   "execution_count": 24,
   "metadata": {},
   "outputs": [],
   "source": [
    "@udf\n",
    "def pick_value(A,B):\n",
    "    if not A: \n",
    "        return B\n",
    "    else: \n",
    "        return A"
   ]
  },
  {
   "cell_type": "code",
   "execution_count": 25,
   "metadata": {},
   "outputs": [],
   "source": [
    "df = df.join(new_far1, df['zonedist1'] == new_far1['zonedist_1'], how='left')\\\n",
    "       .join(new_far2, df['zonedist2'] == new_far2['zonedist_2'], how='left')\\\n",
    "       .withColumn('residfar_new', pick_value(col('residfar_1'), col('residfar_2')))\\\n",
    "       .withColumn('commfar_new', pick_value(col('commfar_1'), col('commfar_2')))\\\n",
    "       .withColumn('maxfar', greatest(col('residfar'), col('commfar')))\\\n",
    "       .withColumn('pctunbuilt', ((col('maxfar') - col('builtfar'))/col('maxfar')))\\\n",
    "       .withColumn('maxfar_new', greatest(col('residfar_new'), col('commfar_new')))\\\n",
    "       .withColumn('pctunbuilt_new', ((col('maxfar_new') - col('builtfar'))/col('maxfar_new')))\\\n",
    "       .filter(col('unitsres').cast(DoubleType()) <= 6)\\\n",
    "       .filter(col('landmark').isNull())\\\n",
    "       .filter(col('irrlotcode') != 'Y')\\\n",
    "       .filter(~col ('bldgclass').like('M%'))\\\n",
    "       .filter(col('landuse') != '08')\\\n",
    "       .filter(col('easements').cast(DoubleType()) <= 0)\\"
   ]
  },
  {
   "cell_type": "code",
   "execution_count": 26,
   "metadata": {},
   "outputs": [
    {
     "name": "stdout",
     "output_type": "stream",
     "text": [
      "+---------------+-------------------+\n",
      "|pctunbuilt_null|pctunbuilt_new_null|\n",
      "+---------------+-------------------+\n",
      "|           3522|               3453|\n",
      "+---------------+-------------------+\n",
      "\n"
     ]
    }
   ],
   "source": [
    "df.agg(sum(when(col('pctunbuilt').isNull(), 1)).alias('pctunbuilt_null'), \n",
    "      sum(when(col('pctunbuilt_new').isNull(), 1)).alias('pctunbuilt_new_null')).show()"
   ]
  },
  {
   "cell_type": "code",
   "execution_count": 27,
   "metadata": {},
   "outputs": [
    {
     "name": "stdout",
     "output_type": "stream",
     "text": [
      "+---------+------+----------+\n",
      "|zonedist1|maxfar|maxfar_new|\n",
      "+---------+------+----------+\n",
      "|R3-2     |0.6   |1.0       |\n",
      "|M1-6/R9  |0.0   |7.52      |\n",
      "|R7-1     |3.44  |4.0       |\n",
      "|R3-2     |0.6   |2.0       |\n",
      "|R5       |1.25  |3.0       |\n",
      "|R8B      |4.0   |6.0       |\n",
      "|C8-3     |2.0   |3.44      |\n",
      "|R3A      |0.6   |1.0       |\n",
      "|C8-2     |2.0   |3.0       |\n",
      "|R7-1     |3.44  |5.0       |\n",
      "|R5D      |2.0   |3.4       |\n",
      "|R2A      |0.5   |2.0       |\n",
      "|PARK     |0.0   |3.0       |\n",
      "|PARK     |0.0   |0.75      |\n",
      "|R5B      |1.35  |4.0       |\n",
      "|M1-2     |2.0   |6.02      |\n",
      "|R3X      |0.6   |2.0       |\n",
      "|R6B      |2.0   |3.4       |\n",
      "|M1-1     |1.0   |1.35      |\n",
      "|R6B      |2.0   |4.2       |\n",
      "|M1-2     |2.0   |2.43      |\n",
      "|R3-1     |0.6   |1.0       |\n",
      "|C8-1     |1.0   |2.0       |\n",
      "|R5       |1.25  |2.0       |\n",
      "|R3A      |0.6   |3.4       |\n",
      "|M1-4     |2.0   |4.0       |\n",
      "|R6       |2.43  |3.4       |\n",
      "|R5B      |1.35  |3.4       |\n",
      "|R2       |0.5   |1.0       |\n",
      "|R3-2     |0.6   |3.0       |\n",
      "|M2-1     |2.0   |2.43      |\n",
      "|R3-2     |0.6   |3.4       |\n",
      "|C8-3     |2.0   |6.02      |\n",
      "|R3X      |0.6   |3.4       |\n",
      "|R6B      |2.0   |3.0       |\n",
      "|R10      |10.0  |15.0      |\n",
      "|M1-4/R7D |2.0   |4.2       |\n",
      "|PARK     |0.0   |0.5       |\n",
      "|R2A      |0.5   |1.0       |\n",
      "|R5       |1.25  |4.0       |\n",
      "|M1-1     |1.0   |3.44      |\n",
      "|C8-1     |1.0   |3.44      |\n",
      "|R2       |0.5   |3.4       |\n",
      "|C8-1     |1.0   |1.35      |\n",
      "|M1-2     |2.0   |3.0       |\n",
      "|M1-4D    |2.0   |3.0       |\n",
      "|R4A      |0.9   |1.0       |\n",
      "|R6A      |3.0   |3.4       |\n",
      "|R6       |2.43  |4.0       |\n",
      "|R6       |2.43  |4.2       |\n",
      "|C8-1     |1.0   |2.43      |\n",
      "|R6A      |3.0   |4.0       |\n",
      "|R5B      |1.35  |2.0       |\n",
      "|R4       |0.9   |2.0       |\n",
      "|R6B      |2.0   |6.0       |\n",
      "|M1-4/R7X |3.75  |5.0       |\n",
      "|C8-2     |2.0   |3.44      |\n",
      "|PARK     |0.0   |2.0       |\n",
      "|R8A      |6.0   |6.02      |\n",
      "|M1-1     |1.0   |4.2       |\n",
      "|M3-1     |2.0   |2.43      |\n",
      "|M1-4     |2.0   |5.0       |\n",
      "|R4B      |0.9   |2.0       |\n",
      "|R5       |1.25  |3.4       |\n",
      "|M1-1/R6A |1.0   |3.0       |\n",
      "|M1-4     |2.0   |3.0       |\n",
      "|C8-2     |2.0   |2.43      |\n",
      "|M1-1     |1.0   |2.43      |\n",
      "|M1-1     |1.0   |3.0       |\n",
      "|R6       |2.43  |5.0       |\n",
      "|R4-1     |0.9   |1.0       |\n",
      "|R4       |0.9   |1.0       |\n",
      "|M1-5     |5.0   |7.52      |\n",
      "|M1-1     |1.0   |5.0       |\n",
      "|M1-1     |1.0   |6.02      |\n",
      "|R6B      |2.0   |4.0       |\n",
      "|PARK     |0.0   |2.43      |\n",
      "|C8-1     |1.0   |1.1       |\n",
      "|R7-2     |3.44  |6.0       |\n",
      "|R6       |2.43  |6.0       |\n",
      "|R7A      |4.0   |6.0       |\n",
      "|R5B      |1.35  |3.0       |\n",
      "|C8-2     |2.0   |6.02      |\n",
      "|R8       |6.02  |9.0       |\n",
      "|PARK     |0.0   |6.02      |\n",
      "|M1-1     |1.0   |2.0       |\n",
      "|R4B      |0.9   |3.0       |\n",
      "|C8-1     |1.0   |1.25      |\n",
      "|R4       |0.9   |3.4       |\n",
      "|M1-4/R8A |5.4   |6.02      |\n",
      "|M1-2     |2.0   |4.0       |\n",
      "|PARK     |0.0   |1.0       |\n",
      "|R4B      |0.9   |1.0       |\n",
      "|M1-1     |1.0   |4.0       |\n",
      "|R4A      |0.9   |3.4       |\n",
      "|C8-1     |1.0   |3.0       |\n",
      "|M1-1     |1.0   |1.25      |\n",
      "|R3X      |0.6   |1.0       |\n",
      "|PARK     |0.0   |3.44      |\n",
      "|C8-4     |5.0   |6.02      |\n",
      "+---------+------+----------+\n",
      "\n"
     ]
    }
   ],
   "source": [
    "df.filter(col('maxfar') < col('maxfar_new'))\\\n",
    "    .select('zonedist1', 'maxfar', 'maxfar_new').distinct().show(df.count(), False)"
   ]
  },
  {
   "cell_type": "code",
   "execution_count": 28,
   "metadata": {},
   "outputs": [
    {
     "name": "stdout",
     "output_type": "stream",
     "text": [
      "+---------+------+\n",
      "|zonedist1|counts|\n",
      "+---------+------+\n",
      "|R8A      |591   |\n",
      "|M1-1     |133   |\n",
      "|R3-2     |79    |\n",
      "|R6B      |71    |\n",
      "|R3A      |66    |\n",
      "|R5       |59    |\n",
      "|PARK     |52    |\n",
      "|R4       |51    |\n",
      "|C8-1     |51    |\n",
      "|R6       |43    |\n",
      "|R3X      |36    |\n",
      "|C8-2     |36    |\n",
      "|R4A      |20    |\n",
      "|M1-4/R8A |20    |\n",
      "|R4B      |19    |\n",
      "|R5B      |18    |\n",
      "|M1-6/R9  |18    |\n",
      "|R2       |13    |\n",
      "|R7-1     |11    |\n",
      "|C8-3     |11    |\n",
      "|R6A      |10    |\n",
      "|M1-2     |10    |\n",
      "|R3-1     |8     |\n",
      "|M1-4/R7X |7     |\n",
      "|R4-1     |7     |\n",
      "|M1-4/R7D |5     |\n",
      "|M1-5     |4     |\n",
      "|R2A      |4     |\n",
      "|M1-4     |3     |\n",
      "|C8-4     |2     |\n",
      "|R8B      |2     |\n",
      "|M1-1/R6A |2     |\n",
      "|R7-2     |2     |\n",
      "|M3-1     |2     |\n",
      "|R8       |1     |\n",
      "|R10      |1     |\n",
      "|M1-4D    |1     |\n",
      "|R5D      |1     |\n",
      "|M2-1     |1     |\n",
      "|R7A      |1     |\n",
      "+---------+------+\n",
      "\n"
     ]
    }
   ],
   "source": [
    "df.filter(col('maxfar') < col('maxfar_new'))\\\n",
    "    .groupBy('zonedist1')\\\n",
    "    .agg(count('zonedist1').alias('counts'))\\\n",
    "    .sort(col('counts').desc()).show(df.count(), False)"
   ]
  },
  {
   "cell_type": "code",
   "execution_count": 30,
   "metadata": {},
   "outputs": [
    {
     "name": "stdout",
     "output_type": "stream",
     "text": [
      "+------------------+------------------+------------------+\n",
      "|   avg(maxfar_new)|       avg(maxfar)|     avg(builtfar)|\n",
      "+------------------+------------------+------------------+\n",
      "|1.1085407715997209|1.1666834392287233|0.8391015326831988|\n",
      "+------------------+------------------+------------------+\n",
      "\n"
     ]
    }
   ],
   "source": [
    "df.filter(col('zonedist1').like('R%'))\\\n",
    "   .select('maxfar_new', 'maxfar', 'builtfar')\\\n",
    "   .agg(mean('maxfar_new'),mean('maxfar'),mean('builtfar')).show()"
   ]
  },
  {
   "cell_type": "code",
   "execution_count": 31,
   "metadata": {},
   "outputs": [
    {
     "name": "stdout",
     "output_type": "stream",
     "text": [
      "+-------+-------------+---------+-----+\n",
      "|borough|softsites_new|softsites| diff|\n",
      "+-------+-------------+---------+-----+\n",
      "|     MN|         5575|     6106| -531|\n",
      "|     BX|        20241|    21727|-1486|\n",
      "|     BK|        48361|    50568|-2207|\n",
      "|     SI|        18810|    23264|-4454|\n",
      "|     QN|        33537|    41283|-7746|\n",
      "+-------+-------------+---------+-----+\n",
      "\n"
     ]
    }
   ],
   "source": [
    "# By Borough Comparison\n",
    "df.groupBy('borough')\\\n",
    "    .agg(sum(when(col('pctunbuilt_new') >= 0.5, 1)).alias('softsites_new'),\n",
    "         sum(when(col('pctunbuilt') >= 0.5, 1)).alias('softsites'))\\\n",
    "    .withColumn('diff', col('softsites_new')-col('softsites'))\\\n",
    "    .sort(col('diff').desc()).show()"
   ]
  },
  {
   "cell_type": "code",
   "execution_count": 32,
   "metadata": {},
   "outputs": [
    {
     "name": "stdout",
     "output_type": "stream",
     "text": [
      "+---+-------------+---------+----+\n",
      "| cd|softsites_new|softsites|diff|\n",
      "+---+-------------+---------+----+\n",
      "|302|         1018|     1008|  10|\n",
      "|301|         2927|     2917|  10|\n",
      "|206|         1670|     1666|   4|\n",
      "|308|         1777|     1773|   4|\n",
      "|309|         2402|     2399|   3|\n",
      "|102|          262|      259|   3|\n",
      "|303|         2916|     2913|   3|\n",
      "|201|         1568|     1566|   2|\n",
      "|202|         1459|     1457|   2|\n",
      "|484|            9|        7|   2|\n",
      "|316|         3911|     3909|   2|\n",
      "|304|         2599|     2597|   2|\n",
      "|110|          810|      808|   2|\n",
      "|205|         1252|     1250|   2|\n",
      "|595|           18|       16|   2|\n",
      "|204|         1299|     1298|   1|\n",
      "|306|         1740|     1739|   1|\n",
      "|203|         1471|     1470|   1|\n",
      "|207|         1223|     1223|   0|\n",
      "|101|           45|       45|   0|\n",
      "+---+-------------+---------+----+\n",
      "only showing top 20 rows\n",
      "\n"
     ]
    }
   ],
   "source": [
    "df.groupBy('cd')\\\n",
    "    .agg(sum(when(col('pctunbuilt_new') >= 0.5, 1)).alias('softsites_new'),\n",
    "         sum(when(col('pctunbuilt') >= 0.5, 1)).alias('softsites'))\\\n",
    "    .withColumn('diff', col('softsites_new')-col('softsites'))\\\n",
    "    .sort(col('diff').desc()).show()"
   ]
  },
  {
   "cell_type": "code",
   "execution_count": 40,
   "metadata": {},
   "outputs": [
    {
     "name": "stdout",
     "output_type": "stream",
     "text": [
      "+---+-------------+---------+-----+\n",
      "| cd|softsites_new|softsites| diff|\n",
      "+---+-------------+---------+-----+\n",
      "|412|         4827|     6697|-1870|\n",
      "|503|         6591|     8251|-1660|\n",
      "|501|         6623|     8234|-1611|\n",
      "|502|         5577|     6762|-1185|\n",
      "|413|         4771|     5918|-1147|\n",
      "|410|         1881|     2919|-1038|\n",
      "|318|         2686|     3721|-1035|\n",
      "|407|         3080|     3906| -826|\n",
      "|405|         2518|     3169| -651|\n",
      "|212|         3408|     4003| -595|\n",
      "|315|         2686|     3205| -519|\n",
      "|409|         1861|     2309| -448|\n",
      "|408|         1501|     1925| -424|\n",
      "|414|         2463|     2876| -413|\n",
      "|210|         2016|     2428| -412|\n",
      "|211|         1779|     2180| -401|\n",
      "|411|         2136|     2524| -388|\n",
      "|108|          687|      972| -285|\n",
      "|317|         4578|     4842| -264|\n",
      "|106|          347|      536| -189|\n",
      "+---+-------------+---------+-----+\n",
      "only showing top 20 rows\n",
      "\n"
     ]
    }
   ],
   "source": [
    "df.groupBy('cd')\\\n",
    "    .agg(sum(when(col('pctunbuilt_new') >= 0.5, 1)).alias('softsites_new'),\n",
    "         sum(when(col('pctunbuilt') >= 0.5, 1)).alias('softsites'))\\\n",
    "    .withColumn('diff', col('softsites_new')-col('softsites'))\\\n",
    "    .filter((~col('diff').isNull())).sort(col('diff')).show()"
   ]
  },
  {
   "cell_type": "code",
   "execution_count": 33,
   "metadata": {},
   "outputs": [
    {
     "name": "stdout",
     "output_type": "stream",
     "text": [
      "+-------------------+--------------------+-------------------+\n",
      "|pctunbuilt_increase|pctunbuilt_unchanged|pctunbuilt_decrease|\n",
      "+-------------------+--------------------+-------------------+\n",
      "|               1192|              365409|             304494|\n",
      "+-------------------+--------------------+-------------------+\n",
      "\n"
     ]
    }
   ],
   "source": [
    "df.agg(sum(when(col('pctunbuilt_new') > col('pctunbuilt'), 1)).alias('pctunbuilt_increase'), \n",
    "      sum(when(col('pctunbuilt_new') == col('pctunbuilt'), 1)).alias('pctunbuilt_unchanged'),\n",
    "      sum(when(col('pctunbuilt_new') < col('pctunbuilt'), 1)).alias('pctunbuilt_decrease'),).show()"
   ]
  },
  {
   "cell_type": "code",
   "execution_count": 34,
   "metadata": {},
   "outputs": [
    {
     "name": "stdout",
     "output_type": "stream",
     "text": [
      "+--------+---------+--------+\n",
      "|increase|unchanged|decrease|\n",
      "+--------+---------+--------+\n",
      "|    1472|   356009|  315182|\n",
      "+--------+---------+--------+\n",
      "\n"
     ]
    }
   ],
   "source": [
    "df.groupBy().agg(sum(when(col('maxfar_new') > col('maxfar'), 1)).alias('increase'), \n",
    "      sum(when(col('maxfar_new') == col('maxfar'), 1)).alias('unchanged'),\n",
    "      sum(when(col('maxfar_new') < col('maxfar'), 1)).alias('decrease'),).show()"
   ]
  },
  {
   "cell_type": "code",
   "execution_count": 38,
   "metadata": {},
   "outputs": [
    {
     "name": "stdout",
     "output_type": "stream",
     "text": [
      "+-------+-------+-------+-------+-------+-------+\n",
      "|old>0.5|old=0.5|old<0.5|new>0.5|new=0.5|new<0.5|\n",
      "+-------+-------+-------+-------+-------+-------+\n",
      "| 136442|   6506| 528148| 121180|   5344| 544641|\n",
      "+-------+-------+-------+-------+-------+-------+\n",
      "\n"
     ]
    }
   ],
   "source": [
    "df.agg(sum(when(col('pctunbuilt') > 0.5, 1)).alias('old>0.5'),\n",
    "       sum(when(col('pctunbuilt') == 0.5, 1)).alias('old=0.5'),\n",
    "       sum(when(col('pctunbuilt') < 0.5, 1)).alias('old<0.5'),\n",
    "       sum(when(col('pctunbuilt_new') > 0.5, 1)).alias('new>0.5'),\n",
    "       sum(when(col('pctunbuilt_new') == 0.5, 1)).alias('new=0.5'),\n",
    "       sum(when(col('pctunbuilt_new') < 0.5, 1)).alias('new<0.5')).show()"
   ]
  }
 ],
 "metadata": {
  "kernelspec": {
   "display_name": "Python 3",
   "language": "python",
   "name": "python3"
  },
  "language_info": {
   "codemirror_mode": {
    "name": "ipython",
    "version": 3
   },
   "file_extension": ".py",
   "mimetype": "text/x-python",
   "name": "python",
   "nbconvert_exporter": "python",
   "pygments_lexer": "ipython3",
   "version": "3.7.1"
  }
 },
 "nbformat": 4,
 "nbformat_minor": 2
}
